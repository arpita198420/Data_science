{
  "nbformat": 4,
  "nbformat_minor": 0,
  "metadata": {
    "colab": {
      "provenance": []
    },
    "kernelspec": {
      "name": "python3",
      "display_name": "Python 3"
    },
    "language_info": {
      "name": "python"
    }
  },
  "cells": [
    {
      "cell_type": "markdown",
      "source": [
        "#Statement for Hypotesis Testing\n",
        "# we are testing wheather actual operating cost higher than Theoritical operating cost\n",
        "# Null Hypothesis\n",
        "In Null hypothesis we are stating that the true mean weekly operating cost is equal to theoritical mean\n",
        "\n",
        "#Alternate Hypothesis\n",
        "#True mean weekly operting cost grater than theoritical operating cost"
      ],
      "metadata": {
        "id": "Qdehxhnmq4Mf"
      }
    },
    {
      "cell_type": "code",
      "execution_count": null,
      "metadata": {
        "id": "BOJobidO5Brt"
      },
      "outputs": [],
      "source": [
        "import numpy as np\n",
        "from scipy import stats\n",
        "from scipy.stats import norm"
      ]
    },
    {
      "cell_type": "code",
      "source": [
        "n=25\n",
        "sample_mean=3050\n",
        "theorotical_x=600\n",
        "std_x=25\n",
        "fixed_cost=1000\n",
        "Variable_cost_per_unit=5\n",
        "theorotical_mean=fixed_cost+Variable_cost_per_unit*theorotical_x\n",
        "print(f\"theorotical_mean of the value mu is :\",theorotical_mean)\n",
        "\n",
        "poulation_deviation=std_x*Variable_cost_per_unit\n",
        "print(f\"Population deviation(sigma) is :\",poulation_deviation)\n",
        "\n",
        "n=25\n",
        "Std_Error=125/np.sqrt(25)\n",
        "zscore=(sample_mean-theorotical_mean)/Std_Error\n",
        "print(zscore)"
      ],
      "metadata": {
        "colab": {
          "base_uri": "https://localhost:8080/"
        },
        "id": "EFCsz-cx5LoB",
        "outputId": "f81c9019-2ccf-4796-acca-5f656cb2c7c8"
      },
      "execution_count": null,
      "outputs": [
        {
          "output_type": "stream",
          "name": "stdout",
          "text": [
            "theorotical_mean of the value mu is : 4000\n",
            "Population deviation(sigma) is : 125\n",
            "-38.0\n"
          ]
        }
      ]
    },
    {
      "cell_type": "code",
      "source": [
        "#find Z critical value\n",
        "zcritical=norm.ppf(1-.05)\n",
        "print(np.round(zcritical,4))"
      ],
      "metadata": {
        "colab": {
          "base_uri": "https://localhost:8080/"
        },
        "id": "DzT4qwBsINu_",
        "outputId": "5306074b-3538-41b9-818d-2d8d01f9b70c"
      },
      "execution_count": null,
      "outputs": [
        {
          "output_type": "stream",
          "name": "stdout",
          "text": [
            "1.6449\n"
          ]
        }
      ]
    },
    {
      "cell_type": "code",
      "source": [
        "if zscore>zcritical:\n",
        "  print(\"Reject Null Hypothesis and Accept Alternate Hypothesis,there is no evidence of incresing the work operating cost\")\n",
        "\n",
        "else:\n",
        "  print(\"Accept Null Hypothesis and Reject Alternate Hypothesis\")"
      ],
      "metadata": {
        "colab": {
          "base_uri": "https://localhost:8080/"
        },
        "id": "AwVMPNWTl46W",
        "outputId": "a9afaf0c-ea3c-4025-8efc-6f5a3611539a"
      },
      "execution_count": null,
      "outputs": [
        {
          "output_type": "stream",
          "name": "stdout",
          "text": [
            "Accept Null Hypothesis and Reject Alternate Hypothesis\n"
          ]
        }
      ]
    },
    {
      "cell_type": "markdown",
      "source": [
        "Make a Decision"
      ],
      "metadata": {
        "id": "im6eHI6Lmzex"
      }
    },
    {
      "cell_type": "code",
      "source": [
        "# in the above scenarion  ZScore value=-.38\n",
        "#Zcrirical=1.6449\n",
        "#here zscore <Zcrirical then we are accepting null hypothesis and rejecting alternate hypothesis\n"
      ],
      "metadata": {
        "id": "aaGzWZI7mzFN"
      },
      "execution_count": null,
      "outputs": []
    },
    {
      "cell_type": "markdown",
      "source": [
        "#Conclusion\n",
        "We accepting  null hypothesis and rejected alterate  Hypothesis\n",
        "There is no avidence to claim that working operating cost gratter than theoritical cost.In fact based on Sample average cost apperas to be lower than expected from model"
      ],
      "metadata": {
        "id": "khYEruTVsAfN"
      }
    }
  ]
}